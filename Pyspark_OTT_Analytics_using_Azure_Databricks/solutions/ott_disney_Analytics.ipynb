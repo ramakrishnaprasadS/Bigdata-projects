{
 "cells": [
  {
   "attachments": {},
   "cell_type": "markdown",
   "metadata": {
    "application/vnd.databricks.v1+cell": {
     "cellMetadata": {
      "byteLimit": 2048000,
      "rowLimit": 10000
     },
     "inputWidgets": {},
     "nuid": "611115f3-76b4-4de8-ad03-930362fcd1a5",
     "showTitle": false,
     "title": ""
    }
   },
   "source": [
    "### mounting inputcontainer  for accessing source files "
   ]
  },
  {
   "cell_type": "code",
   "execution_count": null,
   "metadata": {
    "application/vnd.databricks.v1+cell": {
     "cellMetadata": {
      "byteLimit": 2048000,
      "rowLimit": 10000
     },
     "inputWidgets": {},
     "nuid": "5b0322f3-5e99-4476-969e-5f344f31b868",
     "showTitle": false,
     "title": ""
    }
   },
   "outputs": [
    {
     "name": "stdout",
     "output_type": "stream",
     "text": [
      "+---------+--------------------+--------------------+------+-----+-----+-----------+-----------------+-------+--------------------+-------------+--------------------+--------------------+----------------+---------------+--------------------+---------+-----------+----------+\n",
      "|  imdb_id|               title|                plot|  type|rated| year|released_at|         added_at|runtime|               genre|     director|              writer|              actors|        language|        country|              awards|metascore|imdb_rating|imdb_votes|\n",
      "+---------+--------------------+--------------------+------+-----+-----+-----------+-----------------+-------+--------------------+-------------+--------------------+--------------------+----------------+---------------+--------------------+---------+-----------+----------+\n",
      "|tt0147800|10 Things I Hate ...|A pretty, popular...| movie|PG-13| 1999|31 Mar 1999|November 12, 2019| 97 min|Comedy, Drama, Ro...|   Gil Junger|Karen McCullah, K...|Heath Ledger, Jul...| English, French|            USA|2 wins & 13 nomin...|       70|        7.3|   283,945|\n",
      "|tt7019028|101 Dalmatian Street|This series follo...|series|  N/A|2018–|25 Mar 2019|February 28, 2020|    N/A|Animation, Comedy...|          N/A|                 N/A|Josh Brener, Mich...|         English|UK, USA, Canada|                 N/A|      N/A|        6.2|       124|\n",
      "|tt0115433|      101 Dalmatians|An evil high-fash...| movie|    G| 1996|27 Nov 1996|November 12, 2019|103 min|Adventure, Comedy...|Stephen Herek|Dodie Smith (nove...|Glenn Close, Jeff...|English, Spanish|        USA, UK|Nominated for 1 G...|       49|        5.7|    97,785|\n",
      "+---------+--------------------+--------------------+------+-----+-----+-----------+-----------------+-------+--------------------+-------------+--------------------+--------------------+----------------+---------------+--------------------+---------+-----------+----------+\n",
      "only showing top 3 rows\n",
      "\n"
     ]
    }
   ],
   "source": [
    "\n",
    "dbutils.fs.mount(\n",
    "    source = \"wasbs://sourcecont@ottstg1.blob.core.windows.net\",\n",
    "    mount_point = '/mnt/sourcedata',\n",
    "    extra_configs ={'fs.azure.account.key.ottstg1.blob.core.windows.net':'vC2Q8bwxujkAp050POerQk7aTcnocahDATSflkdOB4BsO+yCfJLjOZ3IWJDP0QvDKZ7KnaWaXjTd+ASt5Po0yQ=='}\n",
    ")\n",
    "df = spark.read.format(\"csv\").options(inferSchema=True,header=True).load(\"/mnt/sourcedata/*\")\n",
    "df.show(3)"
   ]
  },
  {
   "cell_type": "markdown",
   "metadata": {
    "application/vnd.databricks.v1+cell": {
     "cellMetadata": {},
     "inputWidgets": {},
     "nuid": "7bb98fe7-69d2-47e2-9b3c-97bd4f9a0da5",
     "showTitle": false,
     "title": ""
    }
   },
   "source": [
    "### Importing required libraries"
   ]
  },
  {
   "cell_type": "code",
   "execution_count": null,
   "metadata": {
    "application/vnd.databricks.v1+cell": {
     "cellMetadata": {
      "byteLimit": 2048000,
      "rowLimit": 10000
     },
     "inputWidgets": {},
     "nuid": "692b1aaa-de7f-45e5-a035-b856626080a9",
     "showTitle": false,
     "title": ""
    }
   },
   "outputs": [
    {
     "data": {
      "text/html": [
       "\n",
       "            <div>\n",
       "                <p><b>SparkSession - hive</b></p>\n",
       "                \n",
       "        <div>\n",
       "            <p><b>SparkContext</b></p>\n",
       "\n",
       "            <p><a href=\"/?o=2047575490440753#setting/sparkui/0329-083349-wxjwahvb/driver-7429342411948521001\">Spark UI</a></p>\n",
       "\n",
       "            <dl>\n",
       "              <dt>Version</dt>\n",
       "                <dd><code>v3.3.0</code></dd>\n",
       "              <dt>Master</dt>\n",
       "                <dd><code>spark://10.139.64.5:7077</code></dd>\n",
       "              <dt>AppName</dt>\n",
       "                <dd><code>Databricks Shell</code></dd>\n",
       "            </dl>\n",
       "        </div>\n",
       "        \n",
       "            </div>\n",
       "        "
      ]
     },
     "metadata": {
      "application/vnd.databricks.v1+output": {
       "addedWidgets": {},
       "arguments": {},
       "data": "\n            <div>\n                <p><b>SparkSession - hive</b></p>\n                \n        <div>\n            <p><b>SparkContext</b></p>\n\n            <p><a href=\"/?o=2047575490440753#setting/sparkui/0329-083349-wxjwahvb/driver-7429342411948521001\">Spark UI</a></p>\n\n            <dl>\n              <dt>Version</dt>\n                <dd><code>v3.3.0</code></dd>\n              <dt>Master</dt>\n                <dd><code>spark://10.139.64.5:7077</code></dd>\n              <dt>AppName</dt>\n                <dd><code>Databricks Shell</code></dd>\n            </dl>\n        </div>\n        \n            </div>\n        ",
       "datasetInfos": [],
       "metadata": {},
       "removedWidgets": [],
       "textData": null,
       "type": "htmlSandbox"
      }
     },
     "output_type": "display_data"
    }
   ],
   "source": [
    "from pyspark.sql.types import *\n",
    "from pyspark.sql.functions import *\n",
    "spark"
   ]
  },
  {
   "cell_type": "markdown",
   "metadata": {
    "application/vnd.databricks.v1+cell": {
     "cellMetadata": {
      "byteLimit": 2048000,
      "rowLimit": 10000
     },
     "inputWidgets": {},
     "nuid": "4675a1cf-f671-4b4b-a515-340ebf550262",
     "showTitle": false,
     "title": ""
    }
   },
   "source": [
    "### selecting required columns and Preprocessing year,imdb_votes,release_date column"
   ]
  },
  {
   "cell_type": "code",
   "execution_count": null,
   "metadata": {
    "application/vnd.databricks.v1+cell": {
     "cellMetadata": {
      "byteLimit": 2048000,
      "rowLimit": 10000
     },
     "inputWidgets": {},
     "nuid": "e44ecbdb-1d2a-4bb4-93a1-0b6a6142a050",
     "showTitle": false,
     "title": ""
    }
   },
   "outputs": [
    {
     "name": "stdout",
     "output_type": "stream",
     "text": [
      "+--------------------+----+-------------+--------------------+------+------------+\n",
      "|               title|  yr|     director|              awards| votes|release_year|\n",
      "+--------------------+----+-------------+--------------------+------+------------+\n",
      "|10 Things I Hate ...|1999|   Gil Junger|2 wins & 13 nomin...|283945|        1999|\n",
      "|      101 Dalmatians|1996|Stephen Herek|Nominated for 1 G...| 97785|        1996|\n",
      "+--------------------+----+-------------+--------------------+------+------------+\n",
      "only showing top 2 rows\n",
      "\n"
     ]
    }
   ],
   "source": [
    "df1=df.select(col('year'),col('director'),col('imdb_votes'),col('title'),col('awards'),col('released_at'))\n",
    "\n",
    "df2 = df1.withColumn('newYr', when(length(df1.year) >= 4 , df1.year[0:4]).otherwise(0)).withColumn('yr',when(col('newYr').cast(\"int\").isNotNull(), col('newYr')).otherwise(0)).drop('year','newYr')\n",
    "\n",
    "df3 = df2.select(col('title'),col('yr').cast('int'),col('director'),col('awards'),col('released_at'), regexp_replace(col('imdb_votes'),',','').cast('int').alias('votes'))\n",
    "\n",
    "df3=df3.withColumn('release_date',split(df1.released_at,' ')[2]).drop('released_at').withColumn('releaseYr',when(col('release_date').cast(\"int\").isNotNull(), col('release_date')).otherwise(0)).drop('release_date')\n",
    "\n",
    "df5=df3.select(col('title'),col('yr'),col('director'),col('awards'),col('votes'),col('releaseYr').cast('int').alias('release_year')).filter((col('director')!='N/A') & (col('yr')!=0) & (col('title')!='N/A'))\n",
    "df5.show(2)"
   ]
  },
  {
   "cell_type": "markdown",
   "metadata": {
    "application/vnd.databricks.v1+cell": {
     "cellMetadata": {},
     "inputWidgets": {},
     "nuid": "85c65188-1b70-4012-8a94-415e499c1e80",
     "showTitle": false,
     "title": ""
    }
   },
   "source": [
    "### extracting total wins from awards"
   ]
  },
  {
   "cell_type": "code",
   "execution_count": null,
   "metadata": {
    "application/vnd.databricks.v1+cell": {
     "cellMetadata": {
      "byteLimit": 2048000,
      "rowLimit": 10000
     },
     "inputWidgets": {},
     "nuid": "9306ee05-587c-4d73-bfe0-df8804d3d753",
     "showTitle": false,
     "title": ""
    }
   },
   "outputs": [
    {
     "name": "stdout",
     "output_type": "stream",
     "text": [
      "+--------------------+----+-------------+--------------------+------+------------+---------+\n",
      "|               title|  yr|     director|              awards| votes|release_year|Total_win|\n",
      "+--------------------+----+-------------+--------------------+------+------------+---------+\n",
      "|10 Things I Hate ...|1999|   Gil Junger|2 wins & 13 nomin...|283945|        1999|        2|\n",
      "|      101 Dalmatians|1996|Stephen Herek|Nominated for 1 G...| 97785|        1996|        3|\n",
      "+--------------------+----+-------------+--------------------+------+------------+---------+\n",
      "only showing top 2 rows\n",
      "\n"
     ]
    }
   ],
   "source": [
    "df6 = df5.withColumn(\n",
    "    'win',\n",
    "    when(regexp_extract(col('awards'), r'(\\d+) win', 1) != '', regexp_extract(col('awards'), r'(\\d+) win', 1))\n",
    "        .otherwise(0)\n",
    "        .cast('int')) \\\n",
    ".withColumn(\n",
    "    'won',\n",
    "    when(regexp_extract('awards', r'Won (\\d+)', 1) != '', regexp_extract('awards', r'Won (\\d+)', 1))\n",
    "        .otherwise(0)\n",
    "        .cast('int')) \\\n",
    ".withColumn(\"Total_win\",col('win')+col('won')) \\\n",
    ".drop(\"win\",\"won\")\n",
    "df6.show(2)"
   ]
  },
  {
   "cell_type": "markdown",
   "metadata": {
    "application/vnd.databricks.v1+cell": {
     "cellMetadata": {},
     "inputWidgets": {},
     "nuid": "edea03af-e117-4ba6-a2f7-b3d57f3a0cd2",
     "showTitle": false,
     "title": ""
    }
   },
   "source": [
    "### extrating nominations from awards"
   ]
  },
  {
   "cell_type": "code",
   "execution_count": null,
   "metadata": {
    "application/vnd.databricks.v1+cell": {
     "cellMetadata": {
      "byteLimit": 2048000,
      "rowLimit": 10000
     },
     "inputWidgets": {},
     "nuid": "5efd89ab-e4b8-429c-b3db-0c5e534b2590",
     "showTitle": false,
     "title": ""
    }
   },
   "outputs": [
    {
     "name": "stdout",
     "output_type": "stream",
     "text": [
      "+--------------------+----+-------------+--------------------+------+------------+---------+---------------+\n",
      "|               title|  yr|     director|              awards| votes|release_year|Total_win|Total_Nominated|\n",
      "+--------------------+----+-------------+--------------------+------+------------+---------+---------------+\n",
      "|10 Things I Hate ...|1999|   Gil Junger|2 wins & 13 nomin...|283945|        1999|        2|             13|\n",
      "|      101 Dalmatians|1996|Stephen Herek|Nominated for 1 G...| 97785|        1996|        3|             10|\n",
      "+--------------------+----+-------------+--------------------+------+------------+---------+---------------+\n",
      "only showing top 2 rows\n",
      "\n"
     ]
    }
   ],
   "source": [
    "df7 = df6.withColumn(\n",
    "    'nomination',\n",
    "    when(regexp_extract(col('awards'), r'(\\d+) nomin', 1) != '', regexp_extract(col('awards'), r'(\\d+) nomin', 1))\n",
    "    .otherwise(0)\n",
    "    .cast('int')) \\\n",
    ".withColumn('nominated',\n",
    "     when(regexp_extract('awards', r'Nominated for (\\d+)', 1) != '', regexp_extract('awards', r'Nominated for (\\d+)', 1))\n",
    "     .otherwise(0)\n",
    "     .cast('int')) \\\n",
    "     .withColumn(\"Total_Nominated\",col('nomination')+col('nominated')) \\\n",
    "     .drop(\"nomination\",\"nominated\")\n",
    "\n",
    "df7.show(2)"
   ]
  },
  {
   "cell_type": "markdown",
   "metadata": {
    "application/vnd.databricks.v1+cell": {
     "cellMetadata": {
      "byteLimit": 2048000,
      "rowLimit": 10000
     },
     "inputWidgets": {},
     "nuid": "e7c1b7eb-39d6-4505-a4d2-fec81260dc61",
     "showTitle": false,
     "title": ""
    }
   },
   "source": [
    "### 1. Which director's movies has the highest votes? and for that director, which year he has the highest votes?"
   ]
  },
  {
   "cell_type": "code",
   "execution_count": null,
   "metadata": {
    "application/vnd.databricks.v1+cell": {
     "cellMetadata": {
      "byteLimit": 2048000,
      "rowLimit": 10000
     },
     "inputWidgets": {},
     "nuid": "a1836dc3-b68c-4c28-95ad-bdbc480db7ed",
     "showTitle": false,
     "title": ""
    }
   },
   "outputs": [
    {
     "name": "stdout",
     "output_type": "stream",
     "text": [
      "+------------+----+-----------+--------------------+-------+------------+---------+---------------+\n",
      "|       title|  yr|   director|              awards|  votes|release_year|Total_win|Total_Nominated|\n",
      "+------------+----+-----------+--------------------+-------+------------+---------+---------------+\n",
      "|The Avengers|2012|Joss Whedon|Nominated for 1 O...|1225316|        2012|       38|             80|\n",
      "+------------+----+-----------+--------------------+-------+------------+---------+---------------+\n",
      "only showing top 1 row\n",
      "\n"
     ]
    }
   ],
   "source": [
    "df7.sort(col('votes').desc()).show(1)"
   ]
  },
  {
   "cell_type": "markdown",
   "metadata": {
    "application/vnd.databricks.v1+cell": {
     "cellMetadata": {},
     "inputWidgets": {},
     "nuid": "44886177-b7af-445a-ba2c-6e8091ca5382",
     "showTitle": false,
     "title": ""
    }
   },
   "source": [
    "### 2. Total number of movies released in 1999, by director wise."
   ]
  },
  {
   "cell_type": "code",
   "execution_count": null,
   "metadata": {
    "application/vnd.databricks.v1+cell": {
     "cellMetadata": {
      "byteLimit": 2048000,
      "rowLimit": 10000
     },
     "inputWidgets": {},
     "nuid": "30638615-6606-4859-ae91-efed5cb71f59",
     "showTitle": false,
     "title": ""
    }
   },
   "outputs": [
    {
     "name": "stdout",
     "output_type": "stream",
     "text": [
      "+--------------------+--------------------+\n",
      "|            director|movies_count_in_1999|\n",
      "+--------------------+--------------------+\n",
      "|     Kenneth Johnson|                   2|\n",
      "|          Gil Junger|                   1|\n",
      "|       Maurice Joyce|                   1|\n",
      "|       David Kellogg|                   1|\n",
      "|        LeVar Burton|                   1|\n",
      "|Robert C. Ramirez...|                   1|\n",
      "|          Rod Daniel|                   1|\n",
      "|         David Lynch|                   1|\n",
      "|         Steve Boyum|                   1|\n",
      "|         Greg Beeman|                   1|\n",
      "|      Duwayne Dunham|                   1|\n",
      "|John Lasseter, As...|                   1|\n",
      "|        Rob Marshall|                   1|\n",
      "|      Paul Schneider|                   1|\n",
      "|        George Lucas|                   1|\n",
      "|Jun Falkenstein, ...|                   1|\n",
      "|       Donald Petrie|                   1|\n",
      "+--------------------+--------------------+\n",
      "\n"
     ]
    }
   ],
   "source": [
    "df5.filter((df5.release_year==1999) & (df5.director!=\"N/A\")).groupBy('director').agg(count('title').alias('movies_count_in_1999')).sort(col('movies_count_in_1999').desc()).show(50)"
   ]
  },
  {
   "cell_type": "markdown",
   "metadata": {
    "application/vnd.databricks.v1+cell": {
     "cellMetadata": {},
     "inputWidgets": {},
     "nuid": "01504d27-037a-4b40-9e80-c41b30815734",
     "showTitle": false,
     "title": ""
    }
   },
   "source": [
    "### 3. Which year movies got highest awards? And it belongs to which director?"
   ]
  },
  {
   "cell_type": "code",
   "execution_count": null,
   "metadata": {
    "application/vnd.databricks.v1+cell": {
     "cellMetadata": {
      "byteLimit": 2048000,
      "rowLimit": 10000
     },
     "inputWidgets": {},
     "nuid": "51739f12-3dcf-400a-ad66-afba7554c649",
     "showTitle": false,
     "title": ""
    }
   },
   "outputs": [
    {
     "name": "stdout",
     "output_type": "stream",
     "text": [
      "+-------------+----+------------+---------+\n",
      "|        title|  yr|    director|Total_win|\n",
      "+-------------+----+------------+---------+\n",
      "|Black Panther|2018|Ryan Coogler|      111|\n",
      "+-------------+----+------------+---------+\n",
      "only showing top 1 row\n",
      "\n"
     ]
    }
   ],
   "source": [
    "df7.filter(col('director')!='N/A').sort(col(\"Total_win\").desc()).select(\"title\",\"yr\",\"director\",\"Total_win\").show(1)"
   ]
  },
  {
   "cell_type": "markdown",
   "metadata": {
    "application/vnd.databricks.v1+cell": {
     "cellMetadata": {},
     "inputWidgets": {},
     "nuid": "864f6661-4f76-4c46-b1da-39d66f330da4",
     "showTitle": false,
     "title": ""
    }
   },
   "source": [
    "### 4.Total number of movies nominated for awards between 1998-2018?"
   ]
  },
  {
   "cell_type": "code",
   "execution_count": null,
   "metadata": {
    "application/vnd.databricks.v1+cell": {
     "cellMetadata": {
      "byteLimit": 2048000,
      "rowLimit": 10000
     },
     "inputWidgets": {},
     "nuid": "fe4d2d35-89f3-43c0-b13a-48a5f6f1b2a3",
     "showTitle": false,
     "title": ""
    }
   },
   "outputs": [
    {
     "name": "stdout",
     "output_type": "stream",
     "text": [
      "Out[18]: 260"
     ]
    }
   ],
   "source": [
    "df7.filter((df7.yr>=1998) & (df7.yr<=2018) & (df7.Total_Nominated>0)).count()"
   ]
  },
  {
   "cell_type": "markdown",
   "metadata": {
    "application/vnd.databricks.v1+cell": {
     "cellMetadata": {},
     "inputWidgets": {},
     "nuid": "27fbd1a8-ca24-47c7-b29e-ccf833600031",
     "showTitle": false,
     "title": ""
    }
   },
   "source": [
    "### connecting to Azure SQL DB"
   ]
  },
  {
   "cell_type": "code",
   "execution_count": null,
   "metadata": {
    "application/vnd.databricks.v1+cell": {
     "cellMetadata": {
      "byteLimit": 2048000,
      "rowLimit": 10000
     },
     "inputWidgets": {},
     "nuid": "c77d78e3-9a4a-40c8-8e60-3a42f615f77e",
     "showTitle": false,
     "title": ""
    }
   },
   "outputs": [],
   "source": [
    "server_name = \"disneydbserver.database.windows.net\"\n",
    "database_name = \"ottsqldb\"\n",
    "url = \"jdbc:sqlserver://{0};database={1}\".format(server_name, database_name)\n",
    "username = \"ottsqladminuser\"\n",
    "password = \"Srkp@594\""
   ]
  },
  {
   "cell_type": "markdown",
   "metadata": {
    "application/vnd.databricks.v1+cell": {
     "cellMetadata": {},
     "inputWidgets": {},
     "nuid": "882d21d3-9b65-4a28-8254-10d2e59dfa6c",
     "showTitle": false,
     "title": ""
    }
   },
   "source": [
    "### Writing the processed DataFrame and Analysis results to Azure SQL DB"
   ]
  },
  {
   "cell_type": "code",
   "execution_count": null,
   "metadata": {
    "application/vnd.databricks.v1+cell": {
     "cellMetadata": {
      "byteLimit": 2048000,
      "rowLimit": 10000
     },
     "inputWidgets": {},
     "nuid": "f5d82a65-c789-4c7b-ac3c-01852e888296",
     "showTitle": false,
     "title": ""
    }
   },
   "outputs": [],
   "source": [
    "processeddf=df7.sort(col('votes').desc())\n",
    "director_movies=df5.filter((df5.release_year==1999)).groupBy('director').agg(count('title').alias('movies_count_in_1999')).sort(col('movies_count_in_1999').desc())\n",
    "movies_awardsdf=df7.sort(col(\"Total_win\").desc()).select(\"title\",\"yr\",\"director\",\"Total_win\")\n",
    "\n",
    "processeddf.write.format(\"jdbc\").option(\"url\", url).option(\"dbtable\", \"disneymovies\").option(\"user\", username).option(\"password\", password).mode('append').save()\n",
    "director_movies.write.format(\"jdbc\").option(\"url\", url).option(\"dbtable\", \"director_movies\").option(\"user\", username).option(\"password\", password).mode('append').save()\n",
    "movies_awardsdf.write.format(\"jdbc\").option(\"url\", url).option(\"dbtable\", \"movies_awards\").option(\"user\", username).option(\"password\", password).mode('append').save()\n"
   ]
  },
  {
   "cell_type": "markdown",
   "metadata": {
    "application/vnd.databricks.v1+cell": {
     "cellMetadata": {},
     "inputWidgets": {},
     "nuid": "53d60a5c-744e-4bf0-b588-68604c845d32",
     "showTitle": false,
     "title": ""
    }
   },
   "source": [
    "### unmounting the path"
   ]
  },
  {
   "cell_type": "code",
   "execution_count": null,
   "metadata": {
    "application/vnd.databricks.v1+cell": {
     "cellMetadata": {
      "byteLimit": 2048000,
      "rowLimit": 10000
     },
     "inputWidgets": {},
     "nuid": "f17a69b8-f635-42c2-b874-5f243682b7b2",
     "showTitle": false,
     "title": ""
    }
   },
   "outputs": [
    {
     "name": "stdout",
     "output_type": "stream",
     "text": [
      "/mnt/sourcedata has been unmounted.\n",
      "Out[22]: True"
     ]
    }
   ],
   "source": [
    "dbutils.fs.unmount(\"/mnt/sourcedata\")"
   ]
  },
  {
   "cell_type": "code",
   "execution_count": null,
   "metadata": {
    "application/vnd.databricks.v1+cell": {
     "cellMetadata": {},
     "inputWidgets": {},
     "nuid": "ec6256de-489e-4882-9c81-b458ded2497c",
     "showTitle": false,
     "title": ""
    }
   },
   "outputs": [],
   "source": []
  }
 ],
 "metadata": {
  "application/vnd.databricks.v1+notebook": {
   "dashboards": [],
   "language": "python",
   "notebookMetadata": {
    "pythonIndentUnit": 4
   },
   "notebookName": "ott_disney_Analytics",
   "notebookOrigID": 3201126375922295,
   "widgets": {}
  },
  "language_info": {
   "name": "python"
  }
 },
 "nbformat": 4,
 "nbformat_minor": 0
}
