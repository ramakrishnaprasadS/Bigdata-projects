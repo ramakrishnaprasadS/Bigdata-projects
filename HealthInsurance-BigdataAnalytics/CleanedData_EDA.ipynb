{
 "cells": [
  {
   "cell_type": "code",
   "execution_count": 1,
   "metadata": {},
   "outputs": [
    {
     "name": "stderr",
     "output_type": "stream",
     "text": [
      "C:\\Users\\miles\\AppData\\Local\\Temp\\ipykernel_28796\\1319680426.py:2: MatplotlibDeprecationWarning: The seaborn styles shipped by Matplotlib are deprecated since 3.6, as they no longer correspond to the styles shipped by seaborn. However, they will remain available as 'seaborn-v0_8-<style>'. Alternatively, directly use the seaborn API instead.\n",
      "  plt.style.use(\"seaborn\")\n"
     ]
    }
   ],
   "source": [
    "import matplotlib.pyplot as plt\n",
    "plt.style.use(\"seaborn\")\n",
    "import pandas as pd\n",
    "import numpy as np\n",
    "from datetime import datetime, date"
   ]
  },
  {
   "cell_type": "code",
   "execution_count": 4,
   "metadata": {},
   "outputs": [
    {
     "ename": "SyntaxError",
     "evalue": "invalid syntax (1800084615.py, line 1)",
     "output_type": "error",
     "traceback": [
      "\u001b[1;36m  Cell \u001b[1;32mIn[4], line 1\u001b[1;36m\u001b[0m\n\u001b[1;33m    python -m pip3 install seaborn\u001b[0m\n\u001b[1;37m              ^\u001b[0m\n\u001b[1;31mSyntaxError\u001b[0m\u001b[1;31m:\u001b[0m invalid syntax\n"
     ]
    }
   ],
   "source": [
    "import seaborn as sns"
   ]
  },
  {
   "cell_type": "code",
   "execution_count": null,
   "metadata": {},
   "outputs": [],
   "source": [
    "df=pd.read_csv(\"patient.csv\",header=None)\n",
    "df.rename(columns={0: 'Patient_id', 1: 'Patient_name', 2: 'patient_gender',3: 'patient_birth_date',4: 'patient_phone',5: 'disease_name',6:'city',7:'hospital_id'}, inplace=True)\n"
   ]
  },
  {
   "cell_type": "code",
   "execution_count": null,
   "metadata": {},
   "outputs": [],
   "source": [
    "df.head()"
   ]
  },
  {
   "cell_type": "code",
   "execution_count": null,
   "metadata": {},
   "outputs": [],
   "source": [
    "def age(born):\n",
    "    born = datetime.strptime(born, \"%Y-%m-%d\").date()\n",
    "    today = date.today()\n",
    "    return today.year - born.year - ((today.month, \n",
    "                                      today.day) < (born.month, \n",
    "                                                    born.day))"
   ]
  },
  {
   "cell_type": "code",
   "execution_count": null,
   "metadata": {},
   "outputs": [],
   "source": [
    "df['Age'] = df['patient_birth_date'].apply(age)"
   ]
  },
  {
   "cell_type": "code",
   "execution_count": null,
   "metadata": {},
   "outputs": [],
   "source": [
    "df.head()"
   ]
  },
  {
   "cell_type": "code",
   "execution_count": null,
   "metadata": {},
   "outputs": [],
   "source": [
    "df['Age']"
   ]
  },
  {
   "cell_type": "code",
   "execution_count": null,
   "metadata": {},
   "outputs": [],
   "source": [
    "plt.figure(figsize=(6,6))\n",
    "bins=[0,10,20,30,40,50,60,70,80,90,100,110]\n",
    "a=df['Age']\n",
    "plt.hist(a, bins, facecolor='crimson', alpha=0.8, edgecolor='k', linewidth=1)\n",
    "plt.xlabel(\"Age\",fontsize=12)\n",
    "plt.ylabel(\"Patient Count\",fontsize=12)\n",
    "plt.locator_params('y', nbins=12)\n",
    "plt.ylim(ymin=0,ymax=20)\n",
    "plt.locator_params('x', nbins=10)\n",
    "plt.xlim(xmin=0,xmax=100)\n",
    "plt.title(\"Patient Count (According to Age)\",fontsize=15)\n",
    "plt.savefig('processed_data_graph/PatientCount(Age).png')"
   ]
  },
  {
   "cell_type": "code",
   "execution_count": null,
   "metadata": {},
   "outputs": [],
   "source": [
    "plt.figure(figsize=(6,6))\n",
    "ax=sns.countplot(x='patient_gender',data=df)\n",
    "ax.set_ylabel(\"Patient Count\", fontsize = 12)\n",
    "ax.set_xlabel(\"Gender\", fontsize = 12)\n",
    "ax.set_title(\"Gender Count (Patient)\", fontsize=15)\n",
    "for p in ax.patches:\n",
    "    ax.annotate('{:.1f}'.format(p.get_height()), (p.get_x()+0.25, p.get_height()+0.01))\n",
    "plt.savefig('processed_data_graph/GenderCount(Patient).png')"
   ]
  },
  {
   "cell_type": "code",
   "execution_count": null,
   "metadata": {},
   "outputs": [],
   "source": [
    "js=pd.read_json('claims.json')"
   ]
  },
  {
   "cell_type": "code",
   "execution_count": null,
   "metadata": {},
   "outputs": [],
   "source": [
    "js.head()"
   ]
  },
  {
   "cell_type": "code",
   "execution_count": null,
   "metadata": {},
   "outputs": [],
   "source": [
    "plt.figure(figsize=(5,5))\n",
    "ax=sns.countplot(x='Claim_Or_Rejected',data=js,hue='Claim_Or_Rejected')\n",
    "ax.set_ylabel(\"Count\",fontsize=12)\n",
    "ax.set_xlabel(\"Status\", fontsize=12)\n",
    "ax.set_title(\"Claim Status\",fontsize=15)\n",
    "for p in ax.patches:\n",
    "    ax.annotate('{:.1f}'.format(p.get_height()), (p.get_x()+0.25, p.get_height()+0.01))\n",
    "plt.savefig('processed_data_graph/ClaimStatus.png')"
   ]
  },
  {
   "cell_type": "code",
   "execution_count": null,
   "metadata": {},
   "outputs": [],
   "source": [
    "bins=[0,20000,40000,60000,80000,100000,120000,140000,160000,180000,200000,220000,240000]\n",
    "a=js['claim_amount']\n",
    "plt.hist(a, bins, facecolor='crimson', alpha=0.8, edgecolor='k', linewidth=1)\n",
    "plt.xlabel(\"Claim Amount\",fontsize=12)\n",
    "plt.ylabel(\"Patient Count\",fontsize=12)\n",
    "plt.locator_params('x', nbins=12)\n",
    "plt.xlim(xmin=0,xmax=210000)\n",
    "plt.title(\"Patient Count (According to Claim Amount)\",fontsize=15)\n",
    "plt.savefig('processed_data_graph/Patient_count(claimAmt).png')"
   ]
  },
  {
   "cell_type": "code",
   "execution_count": null,
   "metadata": {},
   "outputs": [],
   "source": [
    "ax=sns.countplot(x='claim_type',data=js)\n",
    "ax.set_ylabel(\"Patient Count\",fontsize=12)\n",
    "ax.set_xlabel(\"Types of Claim\", fontsize=12)\n",
    "ax.set_title(\"Count of Claim Type\",fontsize=15)\n",
    "for p in ax.patches:\n",
    "    ax.annotate('{:.1f}'.format(p.get_height()), (p.get_x()+0.25, p.get_height()+0.01))\n",
    "plt.savefig('processed_data_graph/CountofClaimType.png')"
   ]
  },
  {
   "cell_type": "code",
   "execution_count": null,
   "metadata": {},
   "outputs": [],
   "source": [
    "df1=pd.read_csv('subscriber.csv')"
   ]
  },
  {
   "cell_type": "code",
   "execution_count": null,
   "metadata": {},
   "outputs": [],
   "source": [
    "df1.head()"
   ]
  },
  {
   "cell_type": "code",
   "execution_count": null,
   "metadata": {},
   "outputs": [],
   "source": [
    "ax=sns.countplot(x='Gender',data=df1)\n",
    "ax.set_ylabel(\"Subscriber Count\", fontsize = 12)\n",
    "ax.set_xlabel(\"Gender\", fontsize = 12)\n",
    "ax.set_title(\"Gender Count\", fontsize=15)\n",
    "for p in ax.patches:\n",
    "    ax.annotate('{:.1f}'.format(p.get_height()), (p.get_x()+0.25, p.get_height()+0.01))\n",
    "    \n",
    "plt.savefig('processed_data_graph/Subs_GenderCount.png')"
   ]
  },
  {
   "cell_type": "code",
   "execution_count": null,
   "metadata": {},
   "outputs": [],
   "source": [
    "plt.figure(figsize = (6,8))\n",
    "ax=sns.countplot(x='Elig_ind',data=df1,hue='Elig_ind')\n",
    "ax.set_ylabel(\"Subscriber Count\", fontsize = 12)\n",
    "ax.set_xlabel(\"eligibility\", fontsize = 12)\n",
    "ax.set_title(\"Subscriber Status\", fontsize=15)\n",
    "for p in ax.patches:\n",
    "    ax.annotate('{:.1f}'.format(p.get_height()), (p.get_x()+0.25, p.get_height()+0.01))\n",
    "plt.savefig('processed_data_graph/Subs_Status.png')"
   ]
  },
  {
   "cell_type": "code",
   "execution_count": null,
   "metadata": {},
   "outputs": [],
   "source": [
    "def age1(born):\n",
    "    born = datetime.strptime(born, \"%d-%m-%Y\").date()\n",
    "    today = date.today()\n",
    "    return today.year - born.year - ((today.month, \n",
    "                                      today.day) < (born.month, \n",
    "                                                    born.day))"
   ]
  },
  {
   "cell_type": "code",
   "execution_count": null,
   "metadata": {},
   "outputs": [],
   "source": [
    "df1['Age'] = df1['Birth_date'].apply(age1)"
   ]
  },
  {
   "cell_type": "code",
   "execution_count": null,
   "metadata": {},
   "outputs": [],
   "source": [
    "df1.head()plt.figure(figsize=(6,6))\n",
    "bins=[10,20,30,40,50,60,70,80,90,100,110]\n",
    "a=df1['Age']\n",
    "plt.hist(a, bins, facecolor='crimson', alpha=0.8, edgecolor='k', linewidth=1)\n",
    "plt.xlabel(\"Age\",fontsize=12)\n",
    "plt.ylabel(\"Count of Subscriber\",fontsize=12)\n",
    "plt.locator_params('y', nbins=12)\n",
    "plt.ylim(ymin=0,ymax=20)\n",
    "plt.title(\"Subscriber Count (According to Age)\",fontsize=15)\n",
    "plt.savefig('processed_data_graph/Subs_Count(age).png')"
   ]
  },
  {
   "cell_type": "code",
   "execution_count": null,
   "metadata": {},
   "outputs": [],
   "source": []
  },
  {
   "cell_type": "code",
   "execution_count": null,
   "metadata": {},
   "outputs": [],
   "source": []
  }
 ],
 "metadata": {
  "kernelspec": {
   "display_name": "Python 3",
   "language": "python",
   "name": "python3"
  },
  "language_info": {
   "codemirror_mode": {
    "name": "ipython",
    "version": 3
   },
   "file_extension": ".py",
   "mimetype": "text/x-python",
   "name": "python",
   "nbconvert_exporter": "python",
   "pygments_lexer": "ipython3",
   "version": "3.10.10"
  },
  "orig_nbformat": 4
 },
 "nbformat": 4,
 "nbformat_minor": 2
}
